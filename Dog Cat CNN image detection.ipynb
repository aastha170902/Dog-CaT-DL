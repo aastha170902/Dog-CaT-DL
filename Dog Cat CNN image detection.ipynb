{
  "nbformat": 4,
  "nbformat_minor": 0,
  "metadata": {
    "colab": {
      "provenance": []
    },
    "kernelspec": {
      "name": "python3",
      "display_name": "Python 3"
    }
  },
  "cells": [
    {
      "cell_type": "markdown",
      "metadata": {
        "id": "3DR-eO17geWu"
      },
      "source": [
        "# Convolutional Neural Network"
      ]
    },
    {
      "cell_type": "code",
      "source": [
        "!git clone \"https://github.com/vadivukar/GV_DeepLearning/\""
      ],
      "metadata": {
        "colab": {
          "base_uri": "https://localhost:8080/"
        },
        "id": "r6U6sqKu7Hfe",
        "outputId": "674c0886-de4b-4355-9260-ca9718bd92ee"
      },
      "execution_count": 1,
      "outputs": [
        {
          "output_type": "stream",
          "name": "stdout",
          "text": [
            "Cloning into 'GV_DeepLearning'...\n",
            "remote: Enumerating objects: 1607, done.\u001b[K\n",
            "remote: Counting objects: 100% (18/18), done.\u001b[K\n",
            "remote: Compressing objects: 100% (12/12), done.\u001b[K\n",
            "remote: Total 1607 (delta 4), reused 15 (delta 2), pack-reused 1589\u001b[K\n",
            "Receiving objects: 100% (1607/1607), 29.99 MiB | 31.44 MiB/s, done.\n",
            "Resolving deltas: 100% (92/92), done.\n"
          ]
        }
      ]
    },
    {
      "cell_type": "code",
      "source": [
        "\n",
        "!git clone https://github.com/laxmimerit/dog-cat-full-dataset"
      ],
      "metadata": {
        "colab": {
          "base_uri": "https://localhost:8080/"
        },
        "id": "rkIw46LPeGAc",
        "outputId": "8c7b2a4f-324f-4103-bcbc-1e0c9354b28b"
      },
      "execution_count": 2,
      "outputs": [
        {
          "output_type": "stream",
          "name": "stdout",
          "text": [
            "Cloning into 'dog-cat-full-dataset'...\n",
            "remote: Enumerating objects: 25027, done.\u001b[K\n",
            "remote: Total 25027 (delta 0), reused 0 (delta 0), pack-reused 25027\u001b[K\n",
            "Receiving objects: 100% (25027/25027), 541.62 MiB | 24.16 MiB/s, done.\n",
            "Resolving deltas: 100% (5/5), done.\n",
            "Updating files: 100% (25001/25001), done.\n"
          ]
        }
      ]
    },
    {
      "cell_type": "markdown",
      "metadata": {
        "id": "EMefrVPCg-60"
      },
      "source": [
        "### Importing the libraries"
      ]
    },
    {
      "cell_type": "code",
      "metadata": {
        "id": "sCV30xyVhFbE"
      },
      "source": [
        "import tensorflow as tf\n",
        "from keras.preprocessing.image import ImageDataGenerator"
      ],
      "execution_count": 3,
      "outputs": []
    },
    {
      "cell_type": "code",
      "metadata": {
        "id": "FIleuCAjoFD8",
        "colab": {
          "base_uri": "https://localhost:8080/",
          "height": 36
        },
        "outputId": "dde3b445-8223-4cc8-a999-ccd29aa3b9ae"
      },
      "source": [
        "tf.__version__"
      ],
      "execution_count": 4,
      "outputs": [
        {
          "output_type": "execute_result",
          "data": {
            "text/plain": [
              "'2.12.0'"
            ],
            "application/vnd.google.colaboratory.intrinsic+json": {
              "type": "string"
            }
          },
          "metadata": {},
          "execution_count": 4
        }
      ]
    },
    {
      "cell_type": "markdown",
      "metadata": {
        "id": "oxQxCBWyoGPE"
      },
      "source": [
        "## Part 1 - Data Preprocessing"
      ]
    },
    {
      "cell_type": "markdown",
      "metadata": {
        "id": "MvE-heJNo3GG"
      },
      "source": [
        "### Preprocessing the Training set"
      ]
    },
    {
      "cell_type": "code",
      "source": [
        "import pandas as pd"
      ],
      "metadata": {
        "id": "T4ijuZxKf3Bg"
      },
      "execution_count": 5,
      "outputs": []
    },
    {
      "cell_type": "code",
      "metadata": {
        "id": "0koUcJMJpEBD",
        "colab": {
          "base_uri": "https://localhost:8080/"
        },
        "outputId": "3f318589-a44b-4156-a363-f98358ffdab6"
      },
      "source": [
        "train_datagen = ImageDataGenerator(rescale = 1./255,\n",
        "                                   shear_range = 0.2,\n",
        "                                   zoom_range = 0.2,\n",
        "                                   horizontal_flip = True)\n",
        "\n",
        "training_set = train_datagen.flow_from_directory('/content/dog-cat-full-dataset/data/train',\n",
        "                                                 target_size = (64, 64),\n",
        "                                                 batch_size = 32,\n",
        "                                                 class_mode = 'binary')\n"
      ],
      "execution_count": 6,
      "outputs": [
        {
          "output_type": "stream",
          "name": "stdout",
          "text": [
            "Found 20000 images belonging to 2 classes.\n"
          ]
        }
      ]
    },
    {
      "cell_type": "markdown",
      "metadata": {
        "id": "mrCMmGw9pHys"
      },
      "source": [
        "### Preprocessing the Test set"
      ]
    },
    {
      "cell_type": "code",
      "metadata": {
        "id": "SH4WzfOhpKc3",
        "colab": {
          "base_uri": "https://localhost:8080/"
        },
        "outputId": "9dcf634f-7acc-40cd-8b3a-89a437a83efe"
      },
      "source": [
        "test_datagen = ImageDataGenerator(rescale = 1./255)\n",
        "test_set = test_datagen.flow_from_directory('/content/dog-cat-full-dataset/data/test',\n",
        "                                            target_size = (64, 64),\n",
        "                                            batch_size = 32,\n",
        "                                            class_mode = 'binary')"
      ],
      "execution_count": 7,
      "outputs": [
        {
          "output_type": "stream",
          "name": "stdout",
          "text": [
            "Found 5000 images belonging to 2 classes.\n"
          ]
        }
      ]
    },
    {
      "cell_type": "markdown",
      "metadata": {
        "id": "af8O4l90gk7B"
      },
      "source": [
        "## Part 2 - Building the CNN"
      ]
    },
    {
      "cell_type": "markdown",
      "metadata": {
        "id": "ces1gXY2lmoX"
      },
      "source": [
        "### Initialising the CNN"
      ]
    },
    {
      "cell_type": "code",
      "metadata": {
        "id": "SAUt4UMPlhLS"
      },
      "source": [
        "cnn = tf.keras.models.Sequential()"
      ],
      "execution_count": 8,
      "outputs": []
    },
    {
      "cell_type": "markdown",
      "metadata": {
        "id": "u5YJj_XMl5LF"
      },
      "source": [
        "### Step 1 - Convolution"
      ]
    },
    {
      "cell_type": "code",
      "metadata": {
        "id": "XPzPrMckl-hV"
      },
      "source": [
        "cnn.add(tf.keras.layers.Conv2D(filters=32, kernel_size=3, activation='relu', \n",
        "                               input_shape=[64, 64, 3]))"
      ],
      "execution_count": 9,
      "outputs": []
    },
    {
      "cell_type": "markdown",
      "metadata": {
        "id": "tf87FpvxmNOJ"
      },
      "source": [
        "### Step 2 - Pooling"
      ]
    },
    {
      "cell_type": "code",
      "metadata": {
        "id": "ncpqPl69mOac"
      },
      "source": [
        "cnn.add(tf.keras.layers.MaxPool2D(pool_size=2, strides=2))"
      ],
      "execution_count": 10,
      "outputs": []
    },
    {
      "cell_type": "markdown",
      "metadata": {
        "id": "xaTOgD8rm4mU"
      },
      "source": [
        "### Adding a second convolutional layer"
      ]
    },
    {
      "cell_type": "code",
      "metadata": {
        "id": "i_-FZjn_m8gk"
      },
      "source": [
        "cnn.add(tf.keras.layers.Conv2D(filters=32, kernel_size=3, activation='relu'))\n",
        "cnn.add(tf.keras.layers.MaxPool2D(pool_size=2, strides=2))"
      ],
      "execution_count": 11,
      "outputs": []
    },
    {
      "cell_type": "markdown",
      "metadata": {
        "id": "tmiEuvTunKfk"
      },
      "source": [
        "### Step 3 - Flattening"
      ]
    },
    {
      "cell_type": "code",
      "metadata": {
        "id": "6AZeOGCvnNZn"
      },
      "source": [
        "cnn.add(tf.keras.layers.Flatten())"
      ],
      "execution_count": 12,
      "outputs": []
    },
    {
      "cell_type": "markdown",
      "metadata": {
        "id": "dAoSECOm203v"
      },
      "source": [
        "### Step 4 - Full Connection"
      ]
    },
    {
      "cell_type": "code",
      "metadata": {
        "id": "8GtmUlLd26Nq"
      },
      "source": [
        "cnn.add(tf.keras.layers.Dense(units=128, activation='relu'))"
      ],
      "execution_count": 13,
      "outputs": []
    },
    {
      "cell_type": "markdown",
      "metadata": {
        "id": "yTldFvbX28Na"
      },
      "source": [
        "### Step 5 - Output Layer"
      ]
    },
    {
      "cell_type": "code",
      "metadata": {
        "id": "1p_Zj1Mc3Ko_"
      },
      "source": [
        "cnn.add(tf.keras.layers.Dense(units=1, activation='sigmoid'))"
      ],
      "execution_count": 14,
      "outputs": []
    },
    {
      "cell_type": "markdown",
      "metadata": {
        "id": "D6XkI90snSDl"
      },
      "source": [
        "## Part 3 - Training the CNN"
      ]
    },
    {
      "cell_type": "markdown",
      "metadata": {
        "id": "vfrFQACEnc6i"
      },
      "source": [
        "### Compiling the CNN"
      ]
    },
    {
      "cell_type": "code",
      "metadata": {
        "id": "NALksrNQpUlJ"
      },
      "source": [
        "cnn.compile(optimizer = 'adam', loss = 'binary_crossentropy', metrics = ['accuracy'])"
      ],
      "execution_count": 15,
      "outputs": []
    },
    {
      "cell_type": "markdown",
      "metadata": {
        "id": "ehS-v3MIpX2h"
      },
      "source": [
        "### Training the CNN on the Training set and evaluating it on the Test set"
      ]
    },
    {
      "cell_type": "code",
      "metadata": {
        "id": "XUj1W4PJptta",
        "colab": {
          "base_uri": "https://localhost:8080/"
        },
        "outputId": "03a1708d-8516-4197-f917-ea2f17ecd34d"
      },
      "source": [
        "cnn.fit(x = training_set, validation_data = test_set, epochs = 20)"
      ],
      "execution_count": 16,
      "outputs": [
        {
          "output_type": "stream",
          "name": "stdout",
          "text": [
            "Epoch 1/20\n",
            "625/625 [==============================] - 198s 314ms/step - loss: 0.6302 - accuracy: 0.6320 - val_loss: 0.5511 - val_accuracy: 0.7190\n",
            "Epoch 2/20\n",
            "625/625 [==============================] - 198s 316ms/step - loss: 0.5351 - accuracy: 0.7290 - val_loss: 0.5700 - val_accuracy: 0.7122\n",
            "Epoch 3/20\n",
            "625/625 [==============================] - 196s 314ms/step - loss: 0.4938 - accuracy: 0.7601 - val_loss: 0.4533 - val_accuracy: 0.7864\n",
            "Epoch 4/20\n",
            "625/625 [==============================] - 217s 348ms/step - loss: 0.4624 - accuracy: 0.7810 - val_loss: 0.5558 - val_accuracy: 0.7190\n",
            "Epoch 5/20\n",
            "625/625 [==============================] - 199s 318ms/step - loss: 0.4465 - accuracy: 0.7933 - val_loss: 0.4605 - val_accuracy: 0.7826\n",
            "Epoch 6/20\n",
            "625/625 [==============================] - 217s 347ms/step - loss: 0.4296 - accuracy: 0.7998 - val_loss: 0.4213 - val_accuracy: 0.8052\n",
            "Epoch 7/20\n",
            "625/625 [==============================] - 219s 350ms/step - loss: 0.4134 - accuracy: 0.8112 - val_loss: 0.4058 - val_accuracy: 0.8116\n",
            "Epoch 8/20\n",
            "625/625 [==============================] - 199s 319ms/step - loss: 0.3968 - accuracy: 0.8187 - val_loss: 0.3890 - val_accuracy: 0.8146\n",
            "Epoch 9/20\n",
            "625/625 [==============================] - 218s 348ms/step - loss: 0.3770 - accuracy: 0.8292 - val_loss: 0.3855 - val_accuracy: 0.8250\n",
            "Epoch 10/20\n",
            "625/625 [==============================] - 217s 348ms/step - loss: 0.3672 - accuracy: 0.8364 - val_loss: 0.4158 - val_accuracy: 0.8102\n",
            "Epoch 11/20\n",
            "625/625 [==============================] - 198s 317ms/step - loss: 0.3541 - accuracy: 0.8397 - val_loss: 0.3807 - val_accuracy: 0.8258\n",
            "Epoch 12/20\n",
            "625/625 [==============================] - 197s 315ms/step - loss: 0.3421 - accuracy: 0.8510 - val_loss: 0.4082 - val_accuracy: 0.8148\n",
            "Epoch 13/20\n",
            "625/625 [==============================] - 196s 313ms/step - loss: 0.3352 - accuracy: 0.8519 - val_loss: 0.3981 - val_accuracy: 0.8200\n",
            "Epoch 14/20\n",
            "625/625 [==============================] - 197s 315ms/step - loss: 0.3229 - accuracy: 0.8582 - val_loss: 0.4073 - val_accuracy: 0.8222\n",
            "Epoch 15/20\n",
            "625/625 [==============================] - 197s 316ms/step - loss: 0.3114 - accuracy: 0.8657 - val_loss: 0.3992 - val_accuracy: 0.8230\n",
            "Epoch 16/20\n",
            "625/625 [==============================] - 218s 348ms/step - loss: 0.3016 - accuracy: 0.8690 - val_loss: 0.3925 - val_accuracy: 0.8274\n",
            "Epoch 17/20\n",
            "625/625 [==============================] - 195s 312ms/step - loss: 0.2894 - accuracy: 0.8772 - val_loss: 0.3836 - val_accuracy: 0.8336\n",
            "Epoch 18/20\n",
            "625/625 [==============================] - 196s 313ms/step - loss: 0.2895 - accuracy: 0.8759 - val_loss: 0.3964 - val_accuracy: 0.8274\n",
            "Epoch 19/20\n",
            "625/625 [==============================] - 196s 313ms/step - loss: 0.2772 - accuracy: 0.8806 - val_loss: 0.4114 - val_accuracy: 0.8340\n",
            "Epoch 20/20\n",
            "625/625 [==============================] - 196s 313ms/step - loss: 0.2686 - accuracy: 0.8845 - val_loss: 0.4804 - val_accuracy: 0.8000\n"
          ]
        },
        {
          "output_type": "execute_result",
          "data": {
            "text/plain": [
              "<keras.callbacks.History at 0x7fb4f136a8c0>"
            ]
          },
          "metadata": {},
          "execution_count": 16
        }
      ]
    },
    {
      "cell_type": "markdown",
      "metadata": {
        "id": "U3PZasO0006Z"
      },
      "source": [
        "## Part 4 - Making a single prediction"
      ]
    },
    {
      "cell_type": "code",
      "source": [
        "cnn.summary()\n"
      ],
      "metadata": {
        "id": "wuvObLugeECC",
        "colab": {
          "base_uri": "https://localhost:8080/"
        },
        "outputId": "1ea93d1a-3d04-4ac1-e6f4-bb6997ff9008"
      },
      "execution_count": 17,
      "outputs": [
        {
          "output_type": "stream",
          "name": "stdout",
          "text": [
            "Model: \"sequential\"\n",
            "_________________________________________________________________\n",
            " Layer (type)                Output Shape              Param #   \n",
            "=================================================================\n",
            " conv2d (Conv2D)             (None, 62, 62, 32)        896       \n",
            "                                                                 \n",
            " max_pooling2d (MaxPooling2D  (None, 31, 31, 32)       0         \n",
            " )                                                               \n",
            "                                                                 \n",
            " conv2d_1 (Conv2D)           (None, 29, 29, 32)        9248      \n",
            "                                                                 \n",
            " max_pooling2d_1 (MaxPooling  (None, 14, 14, 32)       0         \n",
            " 2D)                                                             \n",
            "                                                                 \n",
            " flatten (Flatten)           (None, 6272)              0         \n",
            "                                                                 \n",
            " dense (Dense)               (None, 128)               802944    \n",
            "                                                                 \n",
            " dense_1 (Dense)             (None, 1)                 129       \n",
            "                                                                 \n",
            "=================================================================\n",
            "Total params: 813,217\n",
            "Trainable params: 813,217\n",
            "Non-trainable params: 0\n",
            "_________________________________________________________________\n"
          ]
        }
      ]
    },
    {
      "cell_type": "code",
      "metadata": {
        "id": "gsSiWEJY1BPB",
        "colab": {
          "base_uri": "https://localhost:8080/"
        },
        "outputId": "c453226d-5f98-43ec-b08e-37da155ccf77"
      },
      "source": [
        "import numpy as np\n",
        "from keras.preprocessing import image\n",
        "\n",
        "test_image = tf.keras.utils.load_img('/content/GV_DeepLearning/Dataset/SingleImage/cat_or_dog_1.jpg', \n",
        "                            target_size = (64, 64))\n",
        "#test_image = tf.keras.utils.load_img(test_image)\n",
        "test_image = np.expand_dims(test_image, axis = 0)\n",
        "result = cnn.predict(test_image)\n",
        "training_set.class_indices\n",
        "if result[0][0] == 1:\n",
        "  prediction = 'dog'\n",
        "else:\n",
        "  prediction = 'cat'"
      ],
      "execution_count": 18,
      "outputs": [
        {
          "output_type": "stream",
          "name": "stdout",
          "text": [
            "1/1 [==============================] - 0s 137ms/step\n"
          ]
        }
      ]
    },
    {
      "cell_type": "code",
      "metadata": {
        "id": "ED9KB3I54c1i",
        "colab": {
          "base_uri": "https://localhost:8080/"
        },
        "outputId": "b8cb8e8d-7260-4377-dbb3-33164c8167ed"
      },
      "source": [
        "print(prediction)"
      ],
      "execution_count": 19,
      "outputs": [
        {
          "output_type": "stream",
          "name": "stdout",
          "text": [
            "dog\n"
          ]
        }
      ]
    },
    {
      "cell_type": "code",
      "source": [],
      "metadata": {
        "id": "gSp3HxB9shsW"
      },
      "execution_count": null,
      "outputs": []
    }
  ]
}